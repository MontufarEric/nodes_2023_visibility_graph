{
 "cells": [
  {
   "cell_type": "code",
   "execution_count": null,
   "metadata": {},
   "outputs": [],
   "source": [
    "from neo4j import GraphDatabase\n",
    "import os\n",
    "import pandas as pd\n",
    "import json"
   ]
  },
  {
   "cell_type": "code",
   "execution_count": null,
   "metadata": {},
   "outputs": [],
   "source": [
    "#directory where the lists of edges created by the Visibility graph algorithm are stored \n",
    "dir_healthy_a = 'D:/Documents/Projects/Nodes/healthyAsleep'"
   ]
  },
  {
   "cell_type": "code",
   "execution_count": null,
   "metadata": {},
   "outputs": [],
   "source": [
    "# connecting to the Neo4j server\n",
    "uri = \"neo4j://localhost:7687\"\n",
    "driver = GraphDatabase.driver(uri, auth=(\"neo4j\", \"your-password\"))  \n",
    "def get_nodes_count(tx):\n",
    "    return tx.run(\"MATCH (n) RETURN COUNT(n)\").single().value()\n",
    "\n",
    "with driver.session() as session:\n",
    "    nodes_count = session.read_transaction(get_nodes_count)\n",
    "    print(f\"Number of nodes: {nodes_count}\")"
   ]
  },
  {
   "cell_type": "code",
   "execution_count": null,
   "metadata": {},
   "outputs": [],
   "source": [
    "# function to create the edges in the graph\n",
    "@staticmethod\n",
    "def _create_edges(tx, edges):\n",
    "    for edge in edges:\n",
    "        query = (\n",
    "                f\"MERGE (a:Node {{name: '{edge[0]}'}}) \"\n",
    "                f\"MERGE (b:Node {{name: '{edge[2]}'}}) \"\n",
    "                f\"MERGE (a)-[:{edge[1]}]->(b)\"\n",
    "            )\n",
    "        tx.run(query)"
   ]
  },
  {
   "cell_type": "code",
   "execution_count": null,
   "metadata": {},
   "outputs": [],
   "source": [
    "def create_graph_from_edges(edges):\n",
    "    with driver.session() as session:\n",
    "        session.write_transaction(_create_edges, edges)"
   ]
  },
  {
   "cell_type": "code",
   "execution_count": null,
   "metadata": {},
   "outputs": [],
   "source": [
    "# main code to create the graph in the database\n",
    "\n",
    "class GraphLoader:\n",
    "\n",
    "    def __init__(self, uri, user, password):\n",
    "        self._driver = GraphDatabase.driver(uri, auth=(user, password))\n",
    "\n",
    "    def close(self):\n",
    "        self._driver.close()\n",
    "\n",
    "    def create_graph_from_edges(self, edges):\n",
    "        with self._driver.session() as session:\n",
    "            session.write_transaction(self._create_edges, edges)\n",
    "\n",
    "    @staticmethod\n",
    "    def _create_edges(tx, edges):\n",
    "        for edge in edges:\n",
    "            query = (\n",
    "                f\"MERGE (a:Node {{name: '{edge[0]}'}}) \"\n",
    "                f\"MERGE (b:Node {{name: '{edge[2]}'}}) \"\n",
    "                f\"MERGE (a)-[:{edge[1]}]->(b)\"\n",
    "            )\n",
    "            tx.run(query)\n",
    "\n",
    "# Use the GraphLoader\n",
    "loader = GraphLoader(\"bolt://localhost:7687\", \"neo4j\", \"123456789\")\n"
   ]
  },
  {
   "cell_type": "code",
   "execution_count": null,
   "metadata": {},
   "outputs": [],
   "source": [
    "# generinc function to get a metric from the database from a cypher query\n",
    "def get_metric(query):\n",
    "    with driver.session() as session:\n",
    "        result = session.run(query)\n",
    "        return result.single()[0]"
   ]
  },
  {
   "cell_type": "markdown",
   "metadata": {},
   "source": [
    "# Number of edges and nodes "
   ]
  },
  {
   "cell_type": "code",
   "execution_count": null,
   "metadata": {},
   "outputs": [],
   "source": [
    "def get_number_of_nodes_and_edges():\n",
    "    NumberOfNodes_query = \"\"\"\n",
    "    MATCH (n) \n",
    "    RETURN COUNT(n) AS NumberOfNodes;\n",
    "    \"\"\"\n",
    "\n",
    "    NumberOfEdges_query = \"\"\"\n",
    "    MATCH ()-[r]->() \n",
    "    RETURN COUNT(r) AS NumberOfRelationships;\n",
    "    \"\"\"\n",
    "\n",
    "\n",
    "    NumberOfNodes = get_metric(NumberOfNodes_query)\n",
    "    NumberOfEdges = get_metric(NumberOfEdges_query)\n",
    "\n",
    "    return NumberOfNodes,NumberOfEdges"
   ]
  },
  {
   "cell_type": "markdown",
   "metadata": {},
   "source": [
    "# List of Node Degrees"
   ]
  },
  {
   "cell_type": "code",
   "execution_count": null,
   "metadata": {},
   "outputs": [],
   "source": [
    "def get_node_degrees():\n",
    "    with driver.session() as session:\n",
    "        result = session.run(\"\"\"\n",
    "        MATCH (n)\n",
    "        RETURN ID(n) AS node_id, SIZE([(n)--() | 1]) AS degree\n",
    "        ORDER BY degree DESC;\n",
    "        \"\"\")\n",
    "        return [{\"node_id\": record[\"node_id\"], \"degree\": record[\"degree\"]} for record in result]\n",
    "\n",
    "\n"
   ]
  },
  {
   "cell_type": "markdown",
   "metadata": {},
   "source": [
    "# number of trianges"
   ]
  },
  {
   "cell_type": "code",
   "execution_count": null,
   "metadata": {},
   "outputs": [],
   "source": [
    "def get_number_of_triangles():\n",
    "    NumberOfTiengles_query = \"\"\"\n",
    "    MATCH (a)-[r1]-(b)-[r2]-(c)-[r3]-(a)\n",
    "    WHERE ID(a) < ID(b) AND ID(b) < ID(c)\n",
    "    RETURN count(*)/3 AS numberOfTriangles;\n",
    "    \"\"\"\n",
    "\n",
    "    NumberOfTrianagles = get_metric(NumberOfTiengles_query)\n",
    "   \n",
    "    return NumberOfTrianagles\n"
   ]
  },
  {
   "cell_type": "markdown",
   "metadata": {},
   "source": [
    "# clustering Index"
   ]
  },
  {
   "cell_type": "code",
   "execution_count": null,
   "metadata": {},
   "outputs": [],
   "source": [
    "def get_clustering_index():\n",
    "    clusteringIndex_query = \"\"\"\n",
    "    MATCH (a)-[:SEES]-(b)-[:SEES]-(c)-[:SEES]-(a)\n",
    "    WHERE a < b AND b < c\n",
    "    WITH a, COUNT(*) AS triangles\n",
    "    MATCH (a)-[:SEES]-(d)\n",
    "    WHERE d <> a\n",
    "    WITH a, triangles, COUNT(*) AS degree\n",
    "    RETURN AVG(2.0 * triangles / (degree * (degree - 1))) AS clustering_coefficient\n",
    "    \"\"\"\n",
    "\n",
    "    clusteringIndex = get_metric(clusteringIndex_query)\n",
    "   \n",
    "    return clusteringIndex\n",
    "\n"
   ]
  },
  {
   "cell_type": "markdown",
   "metadata": {},
   "source": [
    "# Average path lenght "
   ]
  },
  {
   "cell_type": "code",
   "execution_count": null,
   "metadata": {},
   "outputs": [],
   "source": [
    "def get_average_path_length():\n",
    "    average_path_length_query = \"\"\"\n",
    "    MATCH (a), (b)\n",
    "    WHERE id(a) < id(b)\n",
    "    MATCH p=shortestPath((a)-[*..100]-(b))\n",
    "    WITH length(p) AS pathLength\n",
    "    RETURN avg(pathLength) AS average_path_length;\n",
    "    \"\"\"\n",
    "\n",
    "    average_path_length = get_metric(average_path_length_query)\n",
    "   \n",
    "    return average_path_length"
   ]
  },
  {
   "cell_type": "markdown",
   "metadata": {},
   "source": [
    "# Diameter "
   ]
  },
  {
   "cell_type": "code",
   "execution_count": null,
   "metadata": {},
   "outputs": [],
   "source": [
    "def get_diameter():\n",
    "    diameter_query = \"\"\"\n",
    "    MATCH (a), (b)\n",
    "    WHERE id(a) < id(b)\n",
    "    MATCH p=shortestPath((a)-[*..100]-(b))\n",
    "    RETURN max(length(p)) AS diameter;\n",
    "    \"\"\"\n",
    "\n",
    "    diameter = get_metric(diameter_query)\n",
    "   \n",
    "    return diameter\n"
   ]
  },
  {
   "cell_type": "markdown",
   "metadata": {},
   "source": [
    "# Assortativity "
   ]
  },
  {
   "cell_type": "code",
   "execution_count": null,
   "metadata": {},
   "outputs": [],
   "source": [
    "def fetch_degree_data(tx):\n",
    "    return tx.run(\"\"\"\n",
    "        MATCH (n)\n",
    "        WITH n, SIZE([(n)--() | 1]) AS degreeN\n",
    "        MATCH (n)-[]-(m)\n",
    "        WITH n, m, degreeN, SIZE([(m)--() | 1]) AS degreeM\n",
    "        RETURN id(n) AS Node1, id(m) AS Node2, degreeN, degreeM\n",
    "    \"\"\").data()"
   ]
  },
  {
   "cell_type": "code",
   "execution_count": null,
   "metadata": {},
   "outputs": [],
   "source": [
    "def get_assortativity(): \n",
    "    with driver.session() as session:\n",
    "        data = session.read_transaction(fetch_degree_data)\n",
    "        print(data)\n",
    "        # Compute assortativity\n",
    "    degree_product_sum = 0\n",
    "    degree1_sum = 0\n",
    "    degree2_sum = 0\n",
    "    degree1_square_sum = 0\n",
    "    degree2_square_sum = 0\n",
    "\n",
    "    for row in data:\n",
    "        degree1 = row[\"degreeN\"]\n",
    "        degree2 = row[\"degreeM\"]\n",
    "\n",
    "        degree_product_sum += degree1 * degree2\n",
    "        degree1_sum += degree1\n",
    "        degree2_sum += degree2\n",
    "        degree1_square_sum += degree1**2\n",
    "        degree2_square_sum += degree2**2\n",
    "\n",
    "    n = len(data)\n",
    "    avg_degree_product = degree_product_sum / n\n",
    "    avg_degree1 = degree1_sum / n\n",
    "    avg_degree2 = degree2_sum / n\n",
    "\n",
    "    numerator = avg_degree_product - avg_degree1 * avg_degree2\n",
    "    denominator = (degree1_square_sum/n - avg_degree1**2) * (degree2_square_sum/n - avg_degree2**2)\n",
    "    denominator = denominator**0.5\n",
    "\n",
    "    assortativity = numerator / denominator\n",
    "\n",
    "    print(f\"Assortativity: {assortativity}\")\n",
    "    return assortativity"
   ]
  },
  {
   "cell_type": "code",
   "execution_count": null,
   "metadata": {},
   "outputs": [],
   "source": [
    "with driver.session() as session:\n",
    "    data = session.read_transaction(fetch_degree_data)\n"
   ]
  },
  {
   "cell_type": "code",
   "execution_count": null,
   "metadata": {},
   "outputs": [],
   "source": [
    "# Compute assortativity\n",
    "degree_product_sum = 0\n",
    "degree1_sum = 0\n",
    "degree2_sum = 0\n",
    "degree1_square_sum = 0\n",
    "degree2_square_sum = 0\n",
    "\n",
    "for row in data:\n",
    "    degree1 = row[\"degreeN\"]\n",
    "    degree2 = row[\"degreeM\"]\n",
    "\n",
    "    degree_product_sum += degree1 * degree2\n",
    "    degree1_sum += degree1\n",
    "    degree2_sum += degree2\n",
    "    degree1_square_sum += degree1**2\n",
    "    degree2_square_sum += degree2**2\n",
    "\n",
    "n = len(data)\n",
    "avg_degree_product = degree_product_sum / n\n",
    "avg_degree1 = degree1_sum / n\n",
    "avg_degree2 = degree2_sum / n\n",
    "\n",
    "numerator = avg_degree_product - avg_degree1 * avg_degree2\n",
    "denominator = (degree1_square_sum/n - avg_degree1**2) * (degree2_square_sum/n - avg_degree2**2)\n",
    "denominator = denominator**0.5\n",
    "\n",
    "assortativity = numerator / denominator\n",
    "\n",
    "print(f\"Assortativity: {assortativity}\")"
   ]
  },
  {
   "cell_type": "markdown",
   "metadata": {},
   "source": [
    "# main functionality"
   ]
  },
  {
   "cell_type": "markdown",
   "metadata": {},
   "source": [
    "### Generating a graph from a list of egdes"
   ]
  },
  {
   "cell_type": "code",
   "execution_count": null,
   "metadata": {},
   "outputs": [],
   "source": [
    "def delete_all(tx):\n",
    "    tx.run(\"MATCH (n) DETACH DELETE n\")"
   ]
  },
  {
   "cell_type": "code",
   "execution_count": null,
   "metadata": {},
   "outputs": [],
   "source": [
    "# List all .tsv files in the specified directory\n",
    "tsv_files = [f for f in os.listdir(dir_healthy_a) if f.endswith('.tsv')]\n",
    "\n",
    "graph_dic_list = []\n",
    "\n",
    "# Process each .tsv file\n",
    "for tsv_file in tsv_files:\n",
    "    edges = []\n",
    "    # Read the .tsv file using pandas\n",
    "    df = pd.read_csv(os.path.join(dir_healthy_a, tsv_file), sep='\\t')\n",
    "    # Transform the dataframe rows to the desired format and extend the edges list\n",
    "    edges.extend([(f\"{row['source']}\", \"SEES\", f\"{row['target']}\") for _, row in df.iterrows()])\n",
    "\n",
    "    loader.create_graph_from_edges(edges)\n",
    "    loader.close()\n",
    "\n",
    "\n",
    "    num_of_nodes, num_of_edges = get_number_of_nodes_and_edges()\n",
    "    print( num_of_nodes, num_of_edges)\n",
    "    graph_dic = {\n",
    "        \"file_name\" : tsv_file,\n",
    "        \"num_of_nodes\" : num_of_nodes,\n",
    "        \"num_of_edges\" : num_of_edges,\n",
    "        \"avg_degree\" :  num_of_edges*2/num_of_nodes,\n",
    "        \"node_degrees\" : sorted(get_node_degrees(), key=lambda x: x[\"node_id\"]),\n",
    "        \"num_of_triangles\" : get_number_of_triangles(),\n",
    "        \"clustering_index\" : get_clustering_index(),\n",
    "        \"assortativity\" : get_assortativity(),\n",
    "        \"diameter\" : get_diameter(),\n",
    "        \"average_path_length\" : get_average_path_length()\n",
    "    }\n",
    "    \n",
    "    print(tsv_file)\n",
    "    graph_dic_list.append(graph_dic)\n",
    "\n",
    "    with driver.session() as session:\n",
    "        session.write_transaction(delete_all)\n",
    "        print(\"nodes deleted\")\n",
    "    print(get_number_of_nodes_and_edges())"
   ]
  },
  {
   "cell_type": "code",
   "execution_count": null,
   "metadata": {},
   "outputs": [],
   "source": [
    "with driver.session() as session:\n",
    "        session.write_transaction(delete_all)\n",
    "        print(\"nodes deleted\")\n",
    "print(get_number_of_nodes_and_edges())"
   ]
  },
  {
   "cell_type": "code",
   "execution_count": null,
   "metadata": {},
   "outputs": [],
   "source": [
    "with open('healthyAsleep_dic.json', 'w') as file:\n",
    "    json.dump(graph_dic_list, file)\n"
   ]
  },
  {
   "cell_type": "markdown",
   "metadata": {},
   "source": [
    "## Generating the json files with descriptive analytics for each graph/time-series"
   ]
  },
  {
   "cell_type": "code",
   "execution_count": null,
   "metadata": {},
   "outputs": [],
   "source": [
    "tsv_files = [f for f in os.listdir(dir_healthy_a) if f.endswith('.tsv')]"
   ]
  },
  {
   "cell_type": "code",
   "execution_count": null,
   "metadata": {},
   "outputs": [],
   "source": [
    "edges = []\n",
    "graph_dic_list = []\n",
    "# Read the .tsv file using pandas\n",
    "df = pd.read_csv(os.path.join(dir_healthy_a, tsv_file), sep='\\t')\n",
    "# Transform the dataframe rows to the desired format and extend the edges list\n",
    "edges.extend([(f\"{row['source']}\", \"SEES\", f\"{row['target']}\") for _, row in df.iterrows()])\n",
    "\n",
    "loader.create_graph_from_edges(edges)\n",
    "loader.close()\n",
    "\n",
    "    \n",
    "num_of_nodes, num_of_edges = get_number_of_nodes_and_edges()\n",
    "print( num_of_nodes, num_of_edges)\n",
    "graph_dic = {\n",
    "        \"file_name\" : tsv_file,\n",
    "        \"num_of_nodes\" : num_of_nodes,\n",
    "        \"num_of_edges\" : num_of_edges,\n",
    "        \"avg_degree\" :  num_of_edges*2/num_of_nodes,\n",
    "        \"node_degrees\" : sorted(get_node_degrees(), key=lambda x: x[\"node_id\"]),\n",
    "        \"num_of_triangles\" : get_number_of_triangles(),\n",
    "        \"clustering_index\" : get_clustering_index(),\n",
    "        \"assortativity\" : get_assortativity(),\n",
    "        \"diameter\" : get_diameter(),\n",
    "        \"average_path_length\" : get_average_path_length()\n",
    "    }\n",
    "print(tsv_file)\n",
    "graph_dic_list.append(graph_dic)\n",
    "\n",
    "with driver.session() as session:\n",
    "    session.write_transaction(delete_all)\n",
    "    print(\"nodes deleted\")\n",
    "print(get_number_of_nodes_and_edges())\n",
    "\n",
    "\n",
    "# Get a list of dictionaries with each node and its degree\n",
    "result = [{\"node_id\": node, \"degree\": degree} for node, degree in G.degree()]"
   ]
  },
  {
   "cell_type": "code",
   "execution_count": null,
   "metadata": {},
   "outputs": [],
   "source": [
    "# result\n",
    "with open(f'{tsv_file}_test.json', 'w') as file:\n",
    "    json.dump(result, file)\n"
   ]
  },
  {
   "cell_type": "code",
   "execution_count": null,
   "metadata": {},
   "outputs": [],
   "source": [
    "# result\n",
    "with open(f'congestiveestivosAsleep_diclist_test.json', 'w') as file:\n",
    "    json.dump(graph_dic_list, file)\n"
   ]
  }
 ],
 "metadata": {
  "kernelspec": {
   "display_name": "base",
   "language": "python",
   "name": "python3"
  },
  "language_info": {
   "codemirror_mode": {
    "name": "ipython",
    "version": 3
   },
   "file_extension": ".py",
   "mimetype": "text/x-python",
   "name": "python",
   "nbconvert_exporter": "python",
   "pygments_lexer": "ipython3",
   "version": "3.9.7"
  },
  "orig_nbformat": 4
 },
 "nbformat": 4,
 "nbformat_minor": 2
}
